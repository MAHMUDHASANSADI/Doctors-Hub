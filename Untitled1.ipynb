{
  "nbformat": 4,
  "nbformat_minor": 0,
  "metadata": {
    "colab": {
      "provenance": [],
      "authorship_tag": "ABX9TyOyNc3Agsf1Fx3w9DG1u+2c",
      "include_colab_link": true
    },
    "kernelspec": {
      "name": "python3",
      "display_name": "Python 3"
    },
    "language_info": {
      "name": "python"
    }
  },
  "cells": [
    {
      "cell_type": "markdown",
      "metadata": {
        "id": "view-in-github",
        "colab_type": "text"
      },
      "source": [
        "<a href=\"https://colab.research.google.com/github/MAHMUDHASANSADI/Doctors-Hub/blob/main/Untitled1.ipynb\" target=\"_parent\"><img src=\"https://colab.research.google.com/assets/colab-badge.svg\" alt=\"Open In Colab\"/></a>"
      ]
    },
    {
      "cell_type": "code",
      "execution_count": 1,
      "metadata": {
        "colab": {
          "base_uri": "https://localhost:8080/"
        },
        "id": "54FIbaKceAsE",
        "outputId": "2d04c6a9-8202-4928-aef6-60e93949a6bb"
      },
      "outputs": [
        {
          "output_type": "stream",
          "name": "stdout",
          "text": [
            "A* path: [(0, 0), (1, 0), (2, 0), (3, 0), (4, 0), (4, 1), (4, 2)]\n",
            "A* time (ms): 0.11610984802246094\n",
            "Dijkstra path: [(0, 0), (1, 0), (2, 0), (3, 0), (4, 0), (4, 1), (4, 2)]\n",
            "Dijkstra time (ms): 0.19431114196777344\n"
          ]
        }
      ],
      "source": [
        "import heapq\n",
        "import time\n",
        "\n",
        "# Define the grid and its dimensions\n",
        "grid = [\n",
        "    ['O', 'E', 'E', 'E', 'E'],\n",
        "    ['E', 'E', 'E', 'O', 'E'],\n",
        "    ['E', 'E', 'E', 'O', 'E'],\n",
        "    ['E', 'E', 'E', 'O', 'E'],\n",
        "    ['E', 'E', 'E', 'O', 'E']\n",
        "]\n",
        "max_x = len(grid[0]) - 1\n",
        "max_y = len(grid) - 1\n",
        "\n",
        "# Helper function to check if a given position is valid and not an obstacle\n",
        "def is_valid(x, y):\n",
        "    return 0 <= x <= max_x and 0 <= y <= max_y and grid[y][x] != 'O'\n",
        "\n",
        "# Helper function to calculate Manhattan distance\n",
        "def manhattan_distance(pos, target):\n",
        "    return abs(pos[0] - target[0]) + abs(pos[1] - target[1])\n",
        "\n",
        "# Dijkstra's algorithm\n",
        "def dijkstra(start, target):\n",
        "    visited = set()\n",
        "    queue = [(0, start, [])]\n",
        "\n",
        "    while queue:\n",
        "        cost, current, path = heapq.heappop(queue)\n",
        "\n",
        "        if current == target:\n",
        "            return path + [current]\n",
        "\n",
        "        if current in visited:\n",
        "            continue\n",
        "\n",
        "        visited.add(current)\n",
        "\n",
        "        x, y = current\n",
        "        neighbors = [(x - 1, y), (x + 1, y), (x, y - 1), (x, y + 1)]\n",
        "        for neighbor in neighbors:\n",
        "            if is_valid(*neighbor):\n",
        "                new_cost = cost + 1\n",
        "                heapq.heappush(queue, (new_cost, neighbor, path + [current]))\n",
        "\n",
        "# A* algorithm\n",
        "def astar(start, target):\n",
        "    visited = set()\n",
        "    queue = [(0 + manhattan_distance(start, target), 0, start, [])]\n",
        "\n",
        "    while queue:\n",
        "        _, cost, current, path = heapq.heappop(queue)\n",
        "\n",
        "        if current == target:\n",
        "            return path + [current]\n",
        "\n",
        "        if current in visited:\n",
        "            continue\n",
        "\n",
        "        visited.add(current)\n",
        "\n",
        "        x, y = current\n",
        "        neighbors = [(x - 1, y), (x + 1, y), (x, y - 1), (x, y + 1)]\n",
        "        for neighbor in neighbors:\n",
        "            if is_valid(*neighbor):\n",
        "                new_cost = cost + 1\n",
        "                heapq.heappush(queue, (new_cost + manhattan_distance(neighbor, target), new_cost, neighbor, path + [current]))\n",
        "\n",
        "# Starting and target positions\n",
        "start = (0, 0)\n",
        "target = (4, 2)\n",
        "\n",
        "# Dijkstra's algorithm\n",
        "start_time = time.time()\n",
        "dijkstra_path = dijkstra(start, target)\n",
        "dijkstra_time = (time.time() - start_time) * 1000\n",
        "\n",
        "# A* algorithm\n",
        "start_time = time.time()\n",
        "astar_path = astar(start, target)\n",
        "astar_time = (time.time() - start_time) * 1000\n",
        "\n",
        "# Print results\n",
        "print(\"A* path:\", astar_path)\n",
        "print(\"A* time (ms):\", astar_time)\n",
        "print(\"Dijkstra path:\", dijkstra_path)\n",
        "print(\"Dijkstra time (ms):\", dijkstra_time)\n"
      ]
    }
  ]
}